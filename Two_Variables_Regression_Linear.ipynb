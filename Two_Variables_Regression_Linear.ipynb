{
 "cells": [
  {
   "cell_type": "markdown",
   "metadata": {},
   "source": [
    "# Linear Regression Using Nueral Network and Keras"
   ]
  },
  {
   "cell_type": "markdown",
   "metadata": {},
   "source": [
    "At First we import some basic Library which are included with load datasets(here i use pandas),\n",
    "performing operation on datasets(here i use numpy) and visualization of datasets(here i use matplotlib.pyplot)\n",
    "And i use pandas library as the small word pd in my whole code, also numpy as np and matplotlib.pyplot as plt "
   ]
  },
  {
   "cell_type": "code",
   "execution_count": 1,
   "metadata": {},
   "outputs": [],
   "source": [
    "import pandas as pd\n",
    "import numpy as np\n",
    "import matplotlib.pyplot as plt"
   ]
  },
  {
   "cell_type": "markdown",
   "metadata": {},
   "source": [
    "As we imported the basic library for datasets loading, processing and visualization. Now, we import\n",
    "some library function for performing our Regression problem. Here i discuss about this 2 Libraries:\n",
    "    1. The first libraries defines the model that i use in my code. You can know more about this \n",
    "       model in keras website.\n",
    "    2. The scoend libraries are related to the Hidden layers. We defines our hidden layers and\n",
    "       activation function by using it."
   ]
  },
  {
   "cell_type": "code",
   "execution_count": 2,
   "metadata": {},
   "outputs": [
    {
     "name": "stderr",
     "output_type": "stream",
     "text": [
      "Using TensorFlow backend.\n"
     ]
    }
   ],
   "source": [
    "from keras.models import Sequential\n",
    "from keras.layers import Dense"
   ]
  },
  {
   "cell_type": "markdown",
   "metadata": {},
   "source": [
    "Now we call your datasets in our model with pd.read_csv method. read_csv method can read your datasets form your computer. And we store this data in a variable which is called df."
   ]
  },
  {
   "cell_type": "code",
   "execution_count": 3,
   "metadata": {},
   "outputs": [],
   "source": [
    "df = pd.read_csv(\"two_variables.csv\")"
   ]
  },
  {
   "cell_type": "markdown",
   "metadata": {},
   "source": [
    "Datasets are succesfully loaded. Now we want to see the first 5 columns of our datasets. Here we use\n",
    "df.head(5) method. head(5) is a built in function which gives us first 5 column as output."
   ]
  },
  {
   "cell_type": "code",
   "execution_count": 4,
   "metadata": {},
   "outputs": [
    {
     "data": {
      "text/html": [
       "<div>\n",
       "<style scoped>\n",
       "    .dataframe tbody tr th:only-of-type {\n",
       "        vertical-align: middle;\n",
       "    }\n",
       "\n",
       "    .dataframe tbody tr th {\n",
       "        vertical-align: top;\n",
       "    }\n",
       "\n",
       "    .dataframe thead th {\n",
       "        text-align: right;\n",
       "    }\n",
       "</style>\n",
       "<table border=\"1\" class=\"dataframe\">\n",
       "  <thead>\n",
       "    <tr style=\"text-align: right;\">\n",
       "      <th></th>\n",
       "      <th>m</th>\n",
       "      <th>n</th>\n",
       "      <th>y</th>\n",
       "    </tr>\n",
       "  </thead>\n",
       "  <tbody>\n",
       "    <tr>\n",
       "      <td>0</td>\n",
       "      <td>1</td>\n",
       "      <td>127</td>\n",
       "      <td>383</td>\n",
       "    </tr>\n",
       "    <tr>\n",
       "      <td>1</td>\n",
       "      <td>2</td>\n",
       "      <td>142</td>\n",
       "      <td>430</td>\n",
       "    </tr>\n",
       "    <tr>\n",
       "      <td>2</td>\n",
       "      <td>3</td>\n",
       "      <td>138</td>\n",
       "      <td>420</td>\n",
       "    </tr>\n",
       "    <tr>\n",
       "      <td>3</td>\n",
       "      <td>4</td>\n",
       "      <td>90</td>\n",
       "      <td>278</td>\n",
       "    </tr>\n",
       "    <tr>\n",
       "      <td>4</td>\n",
       "      <td>5</td>\n",
       "      <td>74</td>\n",
       "      <td>232</td>\n",
       "    </tr>\n",
       "  </tbody>\n",
       "</table>\n",
       "</div>"
      ],
      "text/plain": [
       "   m    n    y\n",
       "0  1  127  383\n",
       "1  2  142  430\n",
       "2  3  138  420\n",
       "3  4   90  278\n",
       "4  5   74  232"
      ]
     },
     "execution_count": 4,
     "metadata": {},
     "output_type": "execute_result"
    }
   ],
   "source": [
    "df.head(5)"
   ]
  },
  {
   "cell_type": "markdown",
   "metadata": {},
   "source": [
    "Now we spilit your values as x and y. Here x is used as inputs and y is output. df.drop('y',axis=1)\n",
    "drop y column, and axis=1 means we perform this operation in column wise.\n",
    "df.y separates y column from df. And we stored df.drop('y',axis=1) and df.y in variables x and y."
   ]
  },
  {
   "cell_type": "code",
   "execution_count": 5,
   "metadata": {},
   "outputs": [],
   "source": [
    "x = df.drop('y',axis=1)\n",
    "y = df.y"
   ]
  },
  {
   "cell_type": "markdown",
   "metadata": {},
   "source": [
    "Now we convert all of our data in numpy array"
   ]
  },
  {
   "cell_type": "code",
   "execution_count": 6,
   "metadata": {},
   "outputs": [],
   "source": [
    "x = np.array(x)\n",
    "y = np.array(y)\n",
    "\n",
    "m = np.array(df.m)\n",
    "n = np.array(df.n)"
   ]
  },
  {
   "cell_type": "markdown",
   "metadata": {},
   "source": [
    "Data load chapter has been ended. Now we are in the Middle section. Here we do our actual ANN code.\n",
    "1. At first we set our model as Sequential()\n",
    "2. Then we added layers in it.\n",
    "3. Here we use the ReLu activation function\n",
    "4. Another parameters is also required which is input dimension. In that case our input variable is x\n",
    "   and which dimension is 2 (because there are two columns).\n",
    "5. In the last layers we defines our output layers. In that case your output dimension is also 1. So,    we can use 1 for the hidden layers in output.\n",
    "Here we use 16 number of hidden layer in input section and one in output section."
   ]
  },
  {
   "cell_type": "code",
   "execution_count": 7,
   "metadata": {},
   "outputs": [],
   "source": [
    "model = Sequential()\n",
    "model.add(Dense(16, input_dim=2, activation='relu'))\n",
    "model.add(Dense(1))"
   ]
  },
  {
   "cell_type": "markdown",
   "metadata": {},
   "source": [
    "Here we compile our model. And i use Mean Square Error(mse) method for calculating loss then we use adam as\n",
    "our optimizer."
   ]
  },
  {
   "cell_type": "code",
   "execution_count": 8,
   "metadata": {},
   "outputs": [],
   "source": [
    "model.compile(loss='mse', optimizer='adam')"
   ]
  },
  {
   "cell_type": "markdown",
   "metadata": {},
   "source": [
    "Now we fit your x and y values to this model. So here we use fit() method. Also we defines our epochs\n",
    "here. epochs are kind of iteration. The bigger epochs needs bigger time but gives us more accuracy. And if you do not want to see\n",
    "the progress of your epochs in your output cell then use verbose=0 as an extra parameters. And we use this technique."
   ]
  },
  {
   "cell_type": "code",
   "execution_count": 9,
   "metadata": {},
   "outputs": [
    {
     "data": {
      "text/plain": [
       "<keras.callbacks.callbacks.History at 0x18dfb49b5c8>"
      ]
     },
     "execution_count": 9,
     "metadata": {},
     "output_type": "execute_result"
    }
   ],
   "source": [
    "model.fit(x,y,epochs=5000,verbose=0)"
   ]
  },
  {
   "cell_type": "markdown",
   "metadata": {},
   "source": [
    "Here we we use all of our x values for prediction. And store the result in another variables called\n",
    "p as array."
   ]
  },
  {
   "cell_type": "code",
   "execution_count": 10,
   "metadata": {},
   "outputs": [],
   "source": [
    "p = model.predict(x)"
   ]
  },
  {
   "cell_type": "markdown",
   "metadata": {},
   "source": [
    "Basically we want to visualize our model by plotting the predict value p and actual value y.\n",
    "For this resons we are doing this steps:\n",
    "1. Then we plot it simply by using plt.plot() and plt.scatter. Both methods are in matplotlib.\n",
    "   Here scatter means scatter plot. We use red color for our predicted line and blue color for\n",
    "   our actual value of y. We use m columns in x axis."
   ]
  },
  {
   "cell_type": "code",
   "execution_count": 11,
   "metadata": {},
   "outputs": [
    {
     "data": {
      "image/png": "[encoded data removed]",
      "text/plain": [
       "<Figure size 432x288 with 1 Axes>"
      ]
     },
     "metadata": {
      "needs_background": "light"
     },
     "output_type": "display_data"
    }
   ],
   "source": [
    "plt.plot(m,p,color='red')\n",
    "plt.scatter(m,y)\n",
    "plt.show()"
   ]
  },
  {
   "cell_type": "markdown",
   "metadata": {},
   "source": [
    "Here we use columns n in x axis."
   ]
  },
  {
   "cell_type": "code",
   "execution_count": 12,
   "metadata": {},
   "outputs": [
    {
     "data": {
      "image/png": "[encoded data removed]",
      "text/plain": [
       "<Figure size 432x288 with 1 Axes>"
      ]
     },
     "metadata": {
      "needs_background": "light"
     },
     "output_type": "display_data"
    }
   ],
   "source": [
    "plt.plot(n,p,color='red')\n",
    "plt.scatter(n,y)\n",
    "plt.show()"
   ]
  },
  {
   "cell_type": "markdown",
   "metadata": {},
   "source": [
    "Here we write a simple python programme for calculating average loss."
   ]
  },
  {
   "cell_type": "code",
   "execution_count": 13,
   "metadata": {},
   "outputs": [],
   "source": [
    "error_list = []  #A empty list is created for further purpose\n",
    "for i in range(len(p)): #We initialize the loop\n",
    "    h = 0             #This is a temporary variable\n",
    "    h = y[i]-p[i]     #Gives difference between actual value and predicted value\n",
    "    if h<0:           #Checking my if there is a negative data then we make it possitive\n",
    "        h = -h\n",
    "    else:\n",
    "        h = h\n",
    "    h = (h*100)/y[i]  #Percentage error\n",
    "    error_list.append(h) #Percentage error is added to the list\n",
    "percentage_error = sum(error_list)/len(error_list)*100 #Average percentage error"
   ]
  },
  {
   "cell_type": "code",
   "execution_count": 14,
   "metadata": {},
   "outputs": [
    {
     "name": "stdout",
     "output_type": "stream",
     "text": [
      "The average error is 5.399089813232422 %\n"
     ]
    }
   ],
   "source": [
    "print(\"The average error is {} %\".format(percentage_error[0]))"
   ]
  },
  {
   "cell_type": "code",
   "execution_count": 15,
   "metadata": {},
   "outputs": [
    {
     "name": "stdout",
     "output_type": "stream",
     "text": [
      "So the accuracy is 94.60091018676758 %\n"
     ]
    }
   ],
   "source": [
    "print(\"So the accuracy is {} %\".format(100-percentage_error[0]))"
   ]
  },
  {
   "cell_type": "markdown",
   "metadata": {},
   "source": [
    "# Thank You!!!"
   ]
  }
 ],
 "metadata": {
  "kernelspec": {
   "display_name": "Python 3",
   "language": "python",
   "name": "python3"
  },
  "language_info": {
   "codemirror_mode": {
    "name": "ipython",
    "version": 3
   },
   "file_extension": ".py",
   "mimetype": "text/x-python",
   "name": "python",
   "nbconvert_exporter": "python",
   "pygments_lexer": "ipython3",
   "version": "3.7.4"
  }
 },
 "nbformat": 4,
 "nbformat_minor": 2
}
